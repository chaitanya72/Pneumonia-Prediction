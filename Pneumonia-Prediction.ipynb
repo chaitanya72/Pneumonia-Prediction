{
 "cells": [
  {
   "cell_type": "code",
   "execution_count": 1,
   "metadata": {
    "_cell_guid": "b1076dfc-b9ad-4769-8c92-a6c4dae69d19",
    "_uuid": "8f2839f25d086af736a60e9eeb907d3b93b6e0e5"
   },
   "outputs": [
    {
     "name": "stdout",
     "output_type": "stream",
     "text": [
      "['chest_xray']\n"
     ]
    }
   ],
   "source": [
    "# This Python 3 environment comes with many helpful analytics libraries installed\n",
    "# It is defined by the kaggle/python docker image: https://github.com/kaggle/docker-python\n",
    "# For example, here's several helpful packages to load in \n",
    "\n",
    "import numpy as np # linear algebra\n",
    "import pandas as pd # data processing, CSV file I/O (e.g. pd.read_csv)\n",
    "\n",
    "# Input data files are available in the \"../input/\" directory.\n",
    "# For example, running this (by clicking run or pressing Shift+Enter) will list the files in the input directory\n",
    "\n",
    "import os\n",
    "print(os.listdir(\"../input\"))\n",
    "\n",
    "# Any results you write to the current directory are saved as output."
   ]
  },
  {
   "cell_type": "markdown",
   "metadata": {},
   "source": [
    "## Importing Required Modules"
   ]
  },
  {
   "cell_type": "code",
   "execution_count": 2,
   "metadata": {
    "_cell_guid": "79c7e3d0-c299-4dcb-8224-4455121ee9b0",
    "_uuid": "d629ff2d2480ee46fbb7e2d37f6b5fab8052498a"
   },
   "outputs": [
    {
     "name": "stderr",
     "output_type": "stream",
     "text": [
      "Using TensorFlow backend.\n"
     ]
    }
   ],
   "source": [
    "import pandas as pd\n",
    "import numpy as np\n",
    "import matplotlib.pyplot as plt\n",
    "from keras.applications.vgg16 import VGG16\n",
    "from keras.layers import Dense, MaxPool2D, GlobalAveragePooling2D\n",
    "from keras.models import Model\n",
    "from keras.preprocessing.image import ImageDataGenerator"
   ]
  },
  {
   "cell_type": "markdown",
   "metadata": {},
   "source": [
    "## Using the VGG16"
   ]
  },
  {
   "cell_type": "code",
   "execution_count": 3,
   "metadata": {},
   "outputs": [
    {
     "name": "stdout",
     "output_type": "stream",
     "text": [
      "Downloading data from https://github.com/fchollet/deep-learning-models/releases/download/v0.1/vgg16_weights_tf_dim_ordering_tf_kernels.h5\n",
      "553467904/553467096 [==============================] - 7s 0us/step\n"
     ]
    },
    {
     "name": "stderr",
     "output_type": "stream",
     "text": [
      "/opt/conda/lib/python3.6/site-packages/ipykernel_launcher.py:10: UserWarning: Update your `Model` call to the Keras 2 API: `Model(inputs=Tensor(\"in..., outputs=Tensor(\"de...)`\n",
      "  # Remove the CWD from sys.path while we load stuff.\n"
     ]
    }
   ],
   "source": [
    "base_model = VGG16(weights='imagenet',include_top='false')\n",
    "for layers in base_model.layers:\n",
    "    layers.trainable=False\n",
    "#X = GlobalAveragePooling2D()(base_model.output)\n",
    "X = Dense(1024,activation='relu')(base_model.output)\n",
    "X = Dense(1024,activation='relu')(X)\n",
    "X = Dense(512,activation='relu')(X)\n",
    "X = Dense(1, activation='sigmoid')(X)\n",
    "\n",
    "model = Model(input=base_model.input,output=X)\n",
    "\n",
    "#for layers in model.layers[:-3]:\n",
    "#    layers.trainble=False"
   ]
  },
  {
   "cell_type": "code",
   "execution_count": 4,
   "metadata": {},
   "outputs": [],
   "source": [
    "model.compile(optimizer='adam',loss='binary_crossentropy',metrics=['accuracy'])"
   ]
  },
  {
   "cell_type": "code",
   "execution_count": 5,
   "metadata": {},
   "outputs": [
    {
     "name": "stdout",
     "output_type": "stream",
     "text": [
      "Found 5216 images belonging to 2 classes.\n",
      "Found 624 images belonging to 2 classes.\n",
      "Epoch 1/50\n",
      "82/81 [==============================] - 127s 2s/step - loss: 0.5302 - acc: 0.7471 - val_loss: 0.5233 - val_acc: 0.7452\n",
      "Epoch 2/50\n",
      "82/81 [==============================] - 105s 1s/step - loss: 0.3678 - acc: 0.8275 - val_loss: 0.4862 - val_acc: 0.7628\n",
      "Epoch 3/50\n",
      "82/81 [==============================] - 105s 1s/step - loss: 0.3304 - acc: 0.8470 - val_loss: 0.4536 - val_acc: 0.8013\n",
      "Epoch 4/50\n",
      "82/81 [==============================] - 105s 1s/step - loss: 0.2998 - acc: 0.8699 - val_loss: 0.4416 - val_acc: 0.8141\n",
      "Epoch 5/50\n",
      "82/81 [==============================] - 106s 1s/step - loss: 0.2928 - acc: 0.8744 - val_loss: 0.4287 - val_acc: 0.8141\n",
      "Epoch 6/50\n",
      "82/81 [==============================] - 105s 1s/step - loss: 0.2804 - acc: 0.8779 - val_loss: 0.4073 - val_acc: 0.8093\n",
      "Epoch 7/50\n",
      "82/81 [==============================] - 106s 1s/step - loss: 0.2583 - acc: 0.8895 - val_loss: 0.3777 - val_acc: 0.8333\n",
      "Epoch 8/50\n",
      "82/81 [==============================] - 106s 1s/step - loss: 0.2488 - acc: 0.8937 - val_loss: 0.3830 - val_acc: 0.8397\n",
      "Epoch 9/50\n",
      "82/81 [==============================] - 104s 1s/step - loss: 0.2728 - acc: 0.8845 - val_loss: 0.3462 - val_acc: 0.8494\n",
      "Epoch 10/50\n",
      "82/81 [==============================] - 105s 1s/step - loss: 0.2302 - acc: 0.9072 - val_loss: 0.3278 - val_acc: 0.8494\n",
      "Epoch 11/50\n",
      "82/81 [==============================] - 106s 1s/step - loss: 0.2400 - acc: 0.9003 - val_loss: 0.3371 - val_acc: 0.8574\n",
      "Epoch 12/50\n",
      "82/81 [==============================] - 106s 1s/step - loss: 0.2485 - acc: 0.8975 - val_loss: 0.4700 - val_acc: 0.7949\n",
      "Epoch 13/50\n",
      "82/81 [==============================] - 106s 1s/step - loss: 0.2470 - acc: 0.8960 - val_loss: 0.4085 - val_acc: 0.8045\n",
      "Epoch 14/50\n",
      "82/81 [==============================] - 106s 1s/step - loss: 0.2217 - acc: 0.9108 - val_loss: 0.4089 - val_acc: 0.8413\n",
      "Epoch 15/50\n",
      "82/81 [==============================] - 105s 1s/step - loss: 0.2285 - acc: 0.9080 - val_loss: 0.3712 - val_acc: 0.8574\n",
      "Epoch 16/50\n",
      "82/81 [==============================] - 105s 1s/step - loss: 0.2326 - acc: 0.9091 - val_loss: 0.3084 - val_acc: 0.8702\n",
      "Epoch 17/50\n",
      "82/81 [==============================] - 107s 1s/step - loss: 0.2134 - acc: 0.9120 - val_loss: 0.4382 - val_acc: 0.8301\n",
      "Epoch 18/50\n",
      "82/81 [==============================] - 105s 1s/step - loss: 0.2162 - acc: 0.9118 - val_loss: 0.3017 - val_acc: 0.8686\n",
      "Epoch 19/50\n",
      "82/81 [==============================] - 107s 1s/step - loss: 0.2136 - acc: 0.9183 - val_loss: 0.4376 - val_acc: 0.8125\n",
      "Epoch 20/50\n",
      "82/81 [==============================] - 107s 1s/step - loss: 0.2082 - acc: 0.9167 - val_loss: 0.2968 - val_acc: 0.8686\n",
      "Epoch 21/50\n",
      "82/81 [==============================] - 105s 1s/step - loss: 0.2228 - acc: 0.9122 - val_loss: 0.3163 - val_acc: 0.8654\n",
      "Epoch 22/50\n",
      "82/81 [==============================] - 105s 1s/step - loss: 0.2166 - acc: 0.9129 - val_loss: 0.3128 - val_acc: 0.8686\n",
      "Epoch 23/50\n",
      "82/81 [==============================] - 105s 1s/step - loss: 0.2024 - acc: 0.9173 - val_loss: 0.3001 - val_acc: 0.8734\n",
      "Epoch 24/50\n",
      "82/81 [==============================] - 105s 1s/step - loss: 0.2104 - acc: 0.9192 - val_loss: 0.3492 - val_acc: 0.8558\n",
      "Epoch 25/50\n",
      "82/81 [==============================] - 105s 1s/step - loss: 0.2178 - acc: 0.9154 - val_loss: 0.3512 - val_acc: 0.8622\n",
      "Epoch 26/50\n",
      "82/81 [==============================] - 105s 1s/step - loss: 0.2041 - acc: 0.9209 - val_loss: 0.2961 - val_acc: 0.8734\n",
      "Epoch 27/50\n",
      "82/81 [==============================] - 106s 1s/step - loss: 0.2210 - acc: 0.9059 - val_loss: 0.4253 - val_acc: 0.8317\n",
      "Epoch 28/50\n",
      "82/81 [==============================] - 106s 1s/step - loss: 0.2105 - acc: 0.9158 - val_loss: 0.3499 - val_acc: 0.8606\n",
      "Epoch 29/50\n",
      "82/81 [==============================] - 106s 1s/step - loss: 0.1941 - acc: 0.9238 - val_loss: 0.5438 - val_acc: 0.7965\n",
      "Epoch 30/50\n",
      "82/81 [==============================] - 106s 1s/step - loss: 0.2032 - acc: 0.9219 - val_loss: 0.3102 - val_acc: 0.8718\n",
      "Epoch 31/50\n",
      "82/81 [==============================] - 106s 1s/step - loss: 0.2059 - acc: 0.9150 - val_loss: 0.2815 - val_acc: 0.8734\n",
      "Epoch 32/50\n",
      "82/81 [==============================] - 106s 1s/step - loss: 0.2044 - acc: 0.9205 - val_loss: 0.3382 - val_acc: 0.8590\n",
      "Epoch 33/50\n",
      "82/81 [==============================] - 105s 1s/step - loss: 0.2040 - acc: 0.9162 - val_loss: 0.5296 - val_acc: 0.7901\n",
      "Epoch 34/50\n",
      "82/81 [==============================] - 105s 1s/step - loss: 0.2000 - acc: 0.9173 - val_loss: 0.3653 - val_acc: 0.8654\n",
      "Epoch 35/50\n",
      "82/81 [==============================] - 105s 1s/step - loss: 0.2009 - acc: 0.9173 - val_loss: 0.4827 - val_acc: 0.8045\n",
      "Epoch 36/50\n",
      "82/81 [==============================] - 106s 1s/step - loss: 0.2077 - acc: 0.9182 - val_loss: 0.3539 - val_acc: 0.8606\n",
      "Epoch 37/50\n",
      "82/81 [==============================] - 106s 1s/step - loss: 0.1988 - acc: 0.9207 - val_loss: 0.2801 - val_acc: 0.8766\n",
      "Epoch 38/50\n",
      "82/81 [==============================] - 105s 1s/step - loss: 0.2025 - acc: 0.9188 - val_loss: 0.3232 - val_acc: 0.8686\n",
      "Epoch 39/50\n",
      "82/81 [==============================] - 105s 1s/step - loss: 0.1999 - acc: 0.9182 - val_loss: 0.3165 - val_acc: 0.8622\n",
      "Epoch 40/50\n",
      "82/81 [==============================] - 106s 1s/step - loss: 0.2124 - acc: 0.9139 - val_loss: 0.3716 - val_acc: 0.8558\n",
      "Epoch 41/50\n",
      "82/81 [==============================] - 105s 1s/step - loss: 0.1902 - acc: 0.9255 - val_loss: 0.2806 - val_acc: 0.8846\n",
      "Epoch 42/50\n",
      "82/81 [==============================] - 106s 1s/step - loss: 0.1956 - acc: 0.9223 - val_loss: 0.3400 - val_acc: 0.8638\n",
      "Epoch 43/50\n",
      "82/81 [==============================] - 106s 1s/step - loss: 0.1924 - acc: 0.9242 - val_loss: 0.3029 - val_acc: 0.8782\n",
      "Epoch 44/50\n",
      "82/81 [==============================] - 105s 1s/step - loss: 0.2004 - acc: 0.9219 - val_loss: 0.3123 - val_acc: 0.8702\n",
      "Epoch 45/50\n",
      "82/81 [==============================] - 106s 1s/step - loss: 0.1920 - acc: 0.9234 - val_loss: 0.3016 - val_acc: 0.8766\n",
      "Epoch 46/50\n",
      "82/81 [==============================] - 104s 1s/step - loss: 0.1971 - acc: 0.9245 - val_loss: 0.2832 - val_acc: 0.8862\n",
      "Epoch 47/50\n",
      "82/81 [==============================] - 104s 1s/step - loss: 0.1911 - acc: 0.9261 - val_loss: 0.2808 - val_acc: 0.8862\n",
      "Epoch 48/50\n",
      "82/81 [==============================] - 105s 1s/step - loss: 0.1948 - acc: 0.9234 - val_loss: 0.3169 - val_acc: 0.8718\n",
      "Epoch 49/50\n",
      "82/81 [==============================] - 105s 1s/step - loss: 0.2007 - acc: 0.9183 - val_loss: 0.3975 - val_acc: 0.8494\n",
      "Epoch 50/50\n",
      "82/81 [==============================] - 103s 1s/step - loss: 0.1922 - acc: 0.9232 - val_loss: 0.3078 - val_acc: 0.8734\n"
     ]
    },
    {
     "data": {
      "text/plain": [
       "<keras.callbacks.History at 0x7fea52845da0>"
      ]
     },
     "execution_count": 5,
     "metadata": {},
     "output_type": "execute_result"
    }
   ],
   "source": [
    "train_datagen = ImageDataGenerator(\n",
    "        rescale=1./255,\n",
    "        shear_range=0.2,\n",
    "        zoom_range=0.2,\n",
    "        horizontal_flip=True)\n",
    "\n",
    "test_datagen = ImageDataGenerator(rescale=1./255)\n",
    "\n",
    "train_generator = train_datagen.flow_from_directory(\n",
    "        '../input/chest_xray/chest_xray/train',\n",
    "        target_size=(224, 224),\n",
    "        batch_size=64,\n",
    "        class_mode='binary')\n",
    "\n",
    "validation_generator = test_datagen.flow_from_directory(\n",
    "        '../input/chest_xray/chest_xray/test',\n",
    "        target_size=(224, 224),\n",
    "        batch_size=64,\n",
    "        class_mode='binary')\n",
    "\n",
    "model.fit_generator(\n",
    "        train_generator,\n",
    "        steps_per_epoch=5216/64,\n",
    "        epochs=50,\n",
    "        validation_data=validation_generator,\n",
    "        validation_steps=624/64)"
   ]
  }
 ],
 "metadata": {
  "kernelspec": {
   "display_name": "Python 3",
   "language": "python",
   "name": "python3"
  },
  "language_info": {
   "codemirror_mode": {
    "name": "ipython",
    "version": 3
   },
   "file_extension": ".py",
   "mimetype": "text/x-python",
   "name": "python",
   "nbconvert_exporter": "python",
   "pygments_lexer": "ipython3",
   "version": "3.6.6"
  }
 },
 "nbformat": 4,
 "nbformat_minor": 1
}
